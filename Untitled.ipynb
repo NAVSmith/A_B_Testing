{
 "cells": [
  {
   "cell_type": "code",
   "execution_count": 2,
   "metadata": {},
   "outputs": [],
   "source": [
    "import numpy as np\n",
    "import pandas as pd\n",
    "import matplotlib.pyplot as plt\n",
    "import seaborn as sns"
   ]
  },
  {
   "cell_type": "code",
   "execution_count": 8,
   "metadata": {},
   "outputs": [],
   "source": [
    "df = pd.read_csv('data/data_viz_2018.csv')\n",
    "df = df[:-1]"
   ]
  },
  {
   "cell_type": "code",
   "execution_count": 9,
   "metadata": {},
   "outputs": [
    {
     "data": {
      "text/html": [
       "<div>\n",
       "<style scoped>\n",
       "    .dataframe tbody tr th:only-of-type {\n",
       "        vertical-align: middle;\n",
       "    }\n",
       "\n",
       "    .dataframe tbody tr th {\n",
       "        vertical-align: top;\n",
       "    }\n",
       "\n",
       "    .dataframe thead th {\n",
       "        text-align: right;\n",
       "    }\n",
       "</style>\n",
       "<table border=\"1\" class=\"dataframe\">\n",
       "  <thead>\n",
       "    <tr style=\"text-align: right;\">\n",
       "      <th></th>\n",
       "      <th>visit_date</th>\n",
       "      <th>condition</th>\n",
       "      <th>time_spent_homepage_sec</th>\n",
       "      <th>clicked_article</th>\n",
       "      <th>clicked_like</th>\n",
       "      <th>clicked_share</th>\n",
       "    </tr>\n",
       "  </thead>\n",
       "  <tbody>\n",
       "    <tr>\n",
       "      <th>0</th>\n",
       "      <td>2018-04-01</td>\n",
       "      <td>tips</td>\n",
       "      <td>49.011609</td>\n",
       "      <td>1.0</td>\n",
       "      <td>0.0</td>\n",
       "      <td>1.0</td>\n",
       "    </tr>\n",
       "    <tr>\n",
       "      <th>1</th>\n",
       "      <td>2018-04-01</td>\n",
       "      <td>tips</td>\n",
       "      <td>48.864515</td>\n",
       "      <td>1.0</td>\n",
       "      <td>0.0</td>\n",
       "      <td>0.0</td>\n",
       "    </tr>\n",
       "    <tr>\n",
       "      <th>2</th>\n",
       "      <td>2018-04-01</td>\n",
       "      <td>tips</td>\n",
       "      <td>49.074667</td>\n",
       "      <td>1.0</td>\n",
       "      <td>0.0</td>\n",
       "      <td>0.0</td>\n",
       "    </tr>\n",
       "    <tr>\n",
       "      <th>3</th>\n",
       "      <td>2018-04-01</td>\n",
       "      <td>tips</td>\n",
       "      <td>49.260109</td>\n",
       "      <td>0.0</td>\n",
       "      <td>1.0</td>\n",
       "      <td>0.0</td>\n",
       "    </tr>\n",
       "    <tr>\n",
       "      <th>4</th>\n",
       "      <td>2018-04-01</td>\n",
       "      <td>tips</td>\n",
       "      <td>50.371898</td>\n",
       "      <td>0.0</td>\n",
       "      <td>1.0</td>\n",
       "      <td>0.0</td>\n",
       "    </tr>\n",
       "    <tr>\n",
       "      <th>...</th>\n",
       "      <td>...</td>\n",
       "      <td>...</td>\n",
       "      <td>...</td>\n",
       "      <td>...</td>\n",
       "      <td>...</td>\n",
       "      <td>...</td>\n",
       "    </tr>\n",
       "    <tr>\n",
       "      <th>29995</th>\n",
       "      <td>2018-04-30</td>\n",
       "      <td>tools</td>\n",
       "      <td>49.114504</td>\n",
       "      <td>1.0</td>\n",
       "      <td>0.0</td>\n",
       "      <td>0.0</td>\n",
       "    </tr>\n",
       "    <tr>\n",
       "      <th>29996</th>\n",
       "      <td>2018-04-30</td>\n",
       "      <td>tools</td>\n",
       "      <td>49.742075</td>\n",
       "      <td>1.0</td>\n",
       "      <td>0.0</td>\n",
       "      <td>0.0</td>\n",
       "    </tr>\n",
       "    <tr>\n",
       "      <th>29997</th>\n",
       "      <td>2018-04-30</td>\n",
       "      <td>tools</td>\n",
       "      <td>50.649890</td>\n",
       "      <td>1.0</td>\n",
       "      <td>1.0</td>\n",
       "      <td>0.0</td>\n",
       "    </tr>\n",
       "    <tr>\n",
       "      <th>29998</th>\n",
       "      <td>2018-04-30</td>\n",
       "      <td>tools</td>\n",
       "      <td>49.550665</td>\n",
       "      <td>1.0</td>\n",
       "      <td>0.0</td>\n",
       "      <td>0.0</td>\n",
       "    </tr>\n",
       "    <tr>\n",
       "      <th>29999</th>\n",
       "      <td>2018-04-30</td>\n",
       "      <td>tools</td>\n",
       "      <td>50.352502</td>\n",
       "      <td>1.0</td>\n",
       "      <td>0.0</td>\n",
       "      <td>0.0</td>\n",
       "    </tr>\n",
       "  </tbody>\n",
       "</table>\n",
       "<p>30000 rows × 6 columns</p>\n",
       "</div>"
      ],
      "text/plain": [
       "       visit_date condition  time_spent_homepage_sec  clicked_article  \\\n",
       "0      2018-04-01      tips                49.011609              1.0   \n",
       "1      2018-04-01      tips                48.864515              1.0   \n",
       "2      2018-04-01      tips                49.074667              1.0   \n",
       "3      2018-04-01      tips                49.260109              0.0   \n",
       "4      2018-04-01      tips                50.371898              0.0   \n",
       "...           ...       ...                      ...              ...   \n",
       "29995  2018-04-30     tools                49.114504              1.0   \n",
       "29996  2018-04-30     tools                49.742075              1.0   \n",
       "29997  2018-04-30     tools                50.649890              1.0   \n",
       "29998  2018-04-30     tools                49.550665              1.0   \n",
       "29999  2018-04-30     tools                50.352502              1.0   \n",
       "\n",
       "       clicked_like  clicked_share  \n",
       "0               0.0            1.0  \n",
       "1               0.0            0.0  \n",
       "2               0.0            0.0  \n",
       "3               1.0            0.0  \n",
       "4               1.0            0.0  \n",
       "...             ...            ...  \n",
       "29995           0.0            0.0  \n",
       "29996           0.0            0.0  \n",
       "29997           1.0            0.0  \n",
       "29998           0.0            0.0  \n",
       "29999           0.0            0.0  \n",
       "\n",
       "[30000 rows x 6 columns]"
      ]
     },
     "execution_count": 9,
     "metadata": {},
     "output_type": "execute_result"
    }
   ],
   "source": [
    "df"
   ]
  },
  {
   "cell_type": "code",
   "execution_count": 10,
   "metadata": {},
   "outputs": [
    {
     "name": "stdout",
     "output_type": "stream",
     "text": [
      "<class 'pandas.core.frame.DataFrame'>\n",
      "RangeIndex: 30000 entries, 0 to 29999\n",
      "Data columns (total 6 columns):\n",
      " #   Column                   Non-Null Count  Dtype  \n",
      "---  ------                   --------------  -----  \n",
      " 0   visit_date               30000 non-null  object \n",
      " 1   condition                30000 non-null  object \n",
      " 2   time_spent_homepage_sec  30000 non-null  float64\n",
      " 3   clicked_article          30000 non-null  float64\n",
      " 4   clicked_like             30000 non-null  float64\n",
      " 5   clicked_share            30000 non-null  float64\n",
      "dtypes: float64(4), object(2)\n",
      "memory usage: 1.4+ MB\n"
     ]
    }
   ],
   "source": [
    "df.info()"
   ]
  },
  {
   "cell_type": "code",
   "execution_count": 7,
   "metadata": {},
   "outputs": [
    {
     "data": {
      "text/html": [
       "<div>\n",
       "<style scoped>\n",
       "    .dataframe tbody tr th:only-of-type {\n",
       "        vertical-align: middle;\n",
       "    }\n",
       "\n",
       "    .dataframe tbody tr th {\n",
       "        vertical-align: top;\n",
       "    }\n",
       "\n",
       "    .dataframe thead th {\n",
       "        text-align: right;\n",
       "    }\n",
       "</style>\n",
       "<table border=\"1\" class=\"dataframe\">\n",
       "  <thead>\n",
       "    <tr style=\"text-align: right;\">\n",
       "      <th></th>\n",
       "      <th>visit_date</th>\n",
       "      <th>condition</th>\n",
       "      <th>time_spent_homepage_sec</th>\n",
       "      <th>clicked_article</th>\n",
       "      <th>clicked_like</th>\n",
       "      <th>clicked_share</th>\n",
       "    </tr>\n",
       "  </thead>\n",
       "  <tbody>\n",
       "    <tr>\n",
       "      <th>0</th>\n",
       "      <td>2018-04-01</td>\n",
       "      <td>tips</td>\n",
       "      <td>49.011609</td>\n",
       "      <td>1.0</td>\n",
       "      <td>0.0</td>\n",
       "      <td>1.0</td>\n",
       "    </tr>\n",
       "    <tr>\n",
       "      <th>1</th>\n",
       "      <td>2018-04-01</td>\n",
       "      <td>tips</td>\n",
       "      <td>48.864515</td>\n",
       "      <td>1.0</td>\n",
       "      <td>0.0</td>\n",
       "      <td>0.0</td>\n",
       "    </tr>\n",
       "    <tr>\n",
       "      <th>2</th>\n",
       "      <td>2018-04-01</td>\n",
       "      <td>tips</td>\n",
       "      <td>49.074667</td>\n",
       "      <td>1.0</td>\n",
       "      <td>0.0</td>\n",
       "      <td>0.0</td>\n",
       "    </tr>\n",
       "    <tr>\n",
       "      <th>3</th>\n",
       "      <td>2018-04-01</td>\n",
       "      <td>tips</td>\n",
       "      <td>49.260109</td>\n",
       "      <td>0.0</td>\n",
       "      <td>1.0</td>\n",
       "      <td>0.0</td>\n",
       "    </tr>\n",
       "    <tr>\n",
       "      <th>4</th>\n",
       "      <td>2018-04-01</td>\n",
       "      <td>tips</td>\n",
       "      <td>50.371898</td>\n",
       "      <td>0.0</td>\n",
       "      <td>1.0</td>\n",
       "      <td>0.0</td>\n",
       "    </tr>\n",
       "    <tr>\n",
       "      <th>...</th>\n",
       "      <td>...</td>\n",
       "      <td>...</td>\n",
       "      <td>...</td>\n",
       "      <td>...</td>\n",
       "      <td>...</td>\n",
       "      <td>...</td>\n",
       "    </tr>\n",
       "    <tr>\n",
       "      <th>29995</th>\n",
       "      <td>2018-04-30</td>\n",
       "      <td>tools</td>\n",
       "      <td>49.114504</td>\n",
       "      <td>1.0</td>\n",
       "      <td>0.0</td>\n",
       "      <td>0.0</td>\n",
       "    </tr>\n",
       "    <tr>\n",
       "      <th>29996</th>\n",
       "      <td>2018-04-30</td>\n",
       "      <td>tools</td>\n",
       "      <td>49.742075</td>\n",
       "      <td>1.0</td>\n",
       "      <td>0.0</td>\n",
       "      <td>0.0</td>\n",
       "    </tr>\n",
       "    <tr>\n",
       "      <th>29997</th>\n",
       "      <td>2018-04-30</td>\n",
       "      <td>tools</td>\n",
       "      <td>50.649890</td>\n",
       "      <td>1.0</td>\n",
       "      <td>1.0</td>\n",
       "      <td>0.0</td>\n",
       "    </tr>\n",
       "    <tr>\n",
       "      <th>29998</th>\n",
       "      <td>2018-04-30</td>\n",
       "      <td>tools</td>\n",
       "      <td>49.550665</td>\n",
       "      <td>1.0</td>\n",
       "      <td>0.0</td>\n",
       "      <td>0.0</td>\n",
       "    </tr>\n",
       "    <tr>\n",
       "      <th>29999</th>\n",
       "      <td>2018-04-30</td>\n",
       "      <td>tools</td>\n",
       "      <td>50.352502</td>\n",
       "      <td>1.0</td>\n",
       "      <td>0.0</td>\n",
       "      <td>0.0</td>\n",
       "    </tr>\n",
       "  </tbody>\n",
       "</table>\n",
       "<p>30000 rows × 6 columns</p>\n",
       "</div>"
      ],
      "text/plain": [
       "       visit_date condition  time_spent_homepage_sec  clicked_article  \\\n",
       "0      2018-04-01      tips                49.011609              1.0   \n",
       "1      2018-04-01      tips                48.864515              1.0   \n",
       "2      2018-04-01      tips                49.074667              1.0   \n",
       "3      2018-04-01      tips                49.260109              0.0   \n",
       "4      2018-04-01      tips                50.371898              0.0   \n",
       "...           ...       ...                      ...              ...   \n",
       "29995  2018-04-30     tools                49.114504              1.0   \n",
       "29996  2018-04-30     tools                49.742075              1.0   \n",
       "29997  2018-04-30     tools                50.649890              1.0   \n",
       "29998  2018-04-30     tools                49.550665              1.0   \n",
       "29999  2018-04-30     tools                50.352502              1.0   \n",
       "\n",
       "       clicked_like  clicked_share  \n",
       "0               0.0            1.0  \n",
       "1               0.0            0.0  \n",
       "2               0.0            0.0  \n",
       "3               1.0            0.0  \n",
       "4               1.0            0.0  \n",
       "...             ...            ...  \n",
       "29995           0.0            0.0  \n",
       "29996           0.0            0.0  \n",
       "29997           1.0            0.0  \n",
       "29998           0.0            0.0  \n",
       "29999           0.0            0.0  \n",
       "\n",
       "[30000 rows x 6 columns]"
      ]
     },
     "execution_count": 7,
     "metadata": {},
     "output_type": "execute_result"
    }
   ],
   "source": [
    "df"
   ]
  },
  {
   "cell_type": "code",
   "execution_count": 11,
   "metadata": {},
   "outputs": [
    {
     "data": {
      "text/plain": [
       "<seaborn.axisgrid.FacetGrid at 0x7fc7ce7eab90>"
      ]
     },
     "execution_count": 11,
     "metadata": {},
     "output_type": "execute_result"
    },
    {
     "data": {
      "image/png": "[encoded data removed]",
      "text/plain": [
       "<Figure size 360x360 with 1 Axes>"
      ]
     },
     "metadata": {
      "needs_background": "light"
     },
     "output_type": "display_data"
    }
   ],
   "source": [
    "sns.displot(df['time_spent_homepage_sec'])"
   ]
  },
  {
   "cell_type": "code",
   "execution_count": 13,
   "metadata": {},
   "outputs": [
    {
     "data": {
      "text/plain": [
       "('2018-04-01', '2018-04-30')"
      ]
     },
     "execution_count": 13,
     "metadata": {},
     "output_type": "execute_result"
    }
   ],
   "source": [
    "df.visit_date.min(), df.visit_date.max()"
   ]
  },
  {
   "cell_type": "code",
   "execution_count": 15,
   "metadata": {},
   "outputs": [
    {
     "data": {
      "text/plain": [
       "count          30000\n",
       "unique            30\n",
       "top       2018-04-14\n",
       "freq            1045\n",
       "Name: visit_date, dtype: object"
      ]
     },
     "execution_count": 15,
     "metadata": {},
     "output_type": "execute_result"
    }
   ],
   "source": [
    "df.visit_date.describe()"
   ]
  },
  {
   "cell_type": "code",
   "execution_count": 19,
   "metadata": {},
   "outputs": [
    {
     "data": {
      "text/html": [
       "<div>\n",
       "<style scoped>\n",
       "    .dataframe tbody tr th:only-of-type {\n",
       "        vertical-align: middle;\n",
       "    }\n",
       "\n",
       "    .dataframe tbody tr th {\n",
       "        vertical-align: top;\n",
       "    }\n",
       "\n",
       "    .dataframe thead th {\n",
       "        text-align: right;\n",
       "    }\n",
       "</style>\n",
       "<table border=\"1\" class=\"dataframe\">\n",
       "  <thead>\n",
       "    <tr style=\"text-align: right;\">\n",
       "      <th></th>\n",
       "      <th></th>\n",
       "      <th>visit_date</th>\n",
       "      <th>time_spent_homepage_sec</th>\n",
       "      <th>clicked_article</th>\n",
       "      <th>clicked_share</th>\n",
       "    </tr>\n",
       "    <tr>\n",
       "      <th>condition</th>\n",
       "      <th>clicked_like</th>\n",
       "      <th></th>\n",
       "      <th></th>\n",
       "      <th></th>\n",
       "      <th></th>\n",
       "    </tr>\n",
       "  </thead>\n",
       "  <tbody>\n",
       "    <tr>\n",
       "      <th rowspan=\"2\" valign=\"top\">tips</th>\n",
       "      <th>0.0</th>\n",
       "      <td>12506</td>\n",
       "      <td>12506</td>\n",
       "      <td>12506</td>\n",
       "      <td>12506</td>\n",
       "    </tr>\n",
       "    <tr>\n",
       "      <th>1.0</th>\n",
       "      <td>2494</td>\n",
       "      <td>2494</td>\n",
       "      <td>2494</td>\n",
       "      <td>2494</td>\n",
       "    </tr>\n",
       "    <tr>\n",
       "      <th rowspan=\"2\" valign=\"top\">tools</th>\n",
       "      <th>0.0</th>\n",
       "      <td>13964</td>\n",
       "      <td>13964</td>\n",
       "      <td>13964</td>\n",
       "      <td>13964</td>\n",
       "    </tr>\n",
       "    <tr>\n",
       "      <th>1.0</th>\n",
       "      <td>1036</td>\n",
       "      <td>1036</td>\n",
       "      <td>1036</td>\n",
       "      <td>1036</td>\n",
       "    </tr>\n",
       "  </tbody>\n",
       "</table>\n",
       "</div>"
      ],
      "text/plain": [
       "                        visit_date  time_spent_homepage_sec  clicked_article  \\\n",
       "condition clicked_like                                                         \n",
       "tips      0.0                12506                    12506            12506   \n",
       "          1.0                 2494                     2494             2494   \n",
       "tools     0.0                13964                    13964            13964   \n",
       "          1.0                 1036                     1036             1036   \n",
       "\n",
       "                        clicked_share  \n",
       "condition clicked_like                 \n",
       "tips      0.0                   12506  \n",
       "          1.0                    2494  \n",
       "tools     0.0                   13964  \n",
       "          1.0                    1036  "
      ]
     },
     "execution_count": 19,
     "metadata": {},
     "output_type": "execute_result"
    }
   ],
   "source": [
    "df.groupby(['condition','clicked_like']).count()"
   ]
  },
  {
   "cell_type": "code",
   "execution_count": 23,
   "metadata": {},
   "outputs": [
    {
     "data": {
      "text/plain": [
       "(0.16626666666666667, 0.06906666666666667)"
      ]
     },
     "execution_count": 23,
     "metadata": {},
     "output_type": "execute_result"
    }
   ],
   "source": [
    "2494/(2494+12506), 1036/(1036+13964)"
   ]
  },
  {
   "cell_type": "markdown",
   "metadata": {},
   "source": [
    "#### proportion diffrance z score\n",
    "\n",
    "$z_{\\hat{p}_{1}-\\hat{p}_{2}} = \\frac{\\hat{p}_{1} -\\hat{p}_{2}}{\\sqrt{\\frac{\\hat{p}\\hat{q}}{n_{1}} + \\frac{\\hat{p}\\hat{q}}{n_{2}}}} $"
   ]
  },
  {
   "cell_type": "code",
   "execution_count": 25,
   "metadata": {},
   "outputs": [],
   "source": [
    "z_score_nom = lambda k1, n1, k2, n2: k1/n1 - k2/n2\n",
    "p_total = lambda k1, n1, k2, n2: (k1+k2)/(n1+n2)\n",
    "z_score_denom = lambda k1, n1, k2, n2: np.sqrt((p_total(k1,n1,k2,n2)*(1-p_total(k1,n1,k2,n2))*(1/n1 + 1/n2))) \n",
    "\n",
    "z_diff = lambda k1,n1,k2,n2: z_score_nom(k1,n1,k2,n2)/z_score_denom(k1,n1,k2,n2)"
   ]
  },
  {
   "cell_type": "code",
   "execution_count": 34,
   "metadata": {},
   "outputs": [
    {
     "data": {
      "text/plain": [
       "1.6808107497110736"
      ]
     },
     "execution_count": 34,
     "metadata": {},
     "output_type": "execute_result"
    }
   ],
   "source": [
    "z_diff(2100,15000,2000,15000)"
   ]
  },
  {
   "cell_type": "code",
   "execution_count": 36,
   "metadata": {},
   "outputs": [],
   "source": [
    "from scipy.special import erf"
   ]
  },
  {
   "cell_type": "markdown",
   "metadata": {},
   "source": [
    "time on page:\n",
    "----\n",
    "* landing page A: 25 sec +/- 4 (after 1000 users)\n",
    "* landing page B: 35 sec +/- 17 (after 200 users)\n",
    "* landing page C: 36 sec +/- 6\n",
    "\n",
    "\n"
   ]
  },
  {
   "cell_type": "markdown",
   "metadata": {},
   "source": [
    "conversion rate\n",
    "---------------\n",
    "\n",
    "* landing page A: 1000 out of 15000 p=1000/15000, variance (under independence assumption): 1000/15000 \\*(14000/15000)\n",
    "* landing page B: 1100 out of 15000\n",
    "* landing page C: 1050 out of 15000\n",
    "    \n",
    "t-Test ==> z-diff test"
   ]
  },
  {
   "cell_type": "code",
   "execution_count": null,
   "metadata": {},
   "outputs": [],
   "source": []
  },
  {
   "cell_type": "code",
   "execution_count": null,
   "metadata": {},
   "outputs": [],
   "source": [
    "from statsmodels.stats.proportion import proportions_ztest"
   ]
  },
  {
   "cell_type": "code",
   "execution_count": 35,
   "metadata": {},
   "outputs": [
    {
     "data": {
      "text/plain": [
       "0.05946305997430319"
      ]
     },
     "execution_count": 35,
     "metadata": {},
     "output_type": "execute_result"
    }
   ],
   "source": [
    "f\n",
    "np.(-1.68**2)"
   ]
  },
  {
   "cell_type": "markdown",
   "metadata": {},
   "source": [
    "binomial: p = 0.166\n",
    "P(k=k | N=15000) = Normal(p*N, p(1-p))"
   ]
  },
  {
   "cell_type": "code",
   "execution_count": 18,
   "metadata": {},
   "outputs": [
    {
     "data": {
      "text/plain": [
       "<seaborn.axisgrid.FacetGrid at 0x7fc7ce60bd90>"
      ]
     },
     "execution_count": 18,
     "metadata": {},
     "output_type": "execute_result"
    },
    {
     "data": {
      "image/png": "[encoded data removed]",
      "text/plain": [
       "<Figure size 420x360 with 1 Axes>"
      ]
     },
     "metadata": {
      "needs_background": "light"
     },
     "output_type": "display_data"
    }
   ],
   "source": [
    "sns.displot(data=df,hue='condition',y='clicked_like')"
   ]
  },
  {
   "cell_type": "code",
   "execution_count": 20,
   "metadata": {},
   "outputs": [],
   "source": [
    "time_spent_tips = df[df.condition=='tips']['time_spent_homepage_sec']\n",
    "time_spent_tools = df[df.condition=='tools']['time_spent_homepage_sec']"
   ]
  },
  {
   "cell_type": "code",
   "execution_count": 21,
   "metadata": {},
   "outputs": [],
   "source": [
    "from statsmodels.stats.weightstats import ttest_ind"
   ]
  },
  {
   "cell_type": "code",
   "execution_count": 22,
   "metadata": {},
   "outputs": [
    {
     "data": {
      "text/plain": [
       "(0.36287872563128165, 0.7166980362504451, 29998.0)"
      ]
     },
     "execution_count": 22,
     "metadata": {},
     "output_type": "execute_result"
    }
   ],
   "source": [
    "ttest_ind(time_spent_tips, time_spent_tools)"
   ]
  },
  {
   "cell_type": "code",
   "execution_count": null,
   "metadata": {},
   "outputs": [],
   "source": []
  }
 ],
 "metadata": {
  "kernelspec": {
   "display_name": "Python 3.7.4 64-bit ('base': conda)",
   "language": "python",
   "name": "python37464bitbaseconda865b03b3ea5d4f4bb8519af201560b69"
  },
  "language_info": {
   "codemirror_mode": {
    "name": "ipython",
    "version": 3
   },
   "file_extension": ".py",
   "mimetype": "text/x-python",
   "name": "python",
   "nbconvert_exporter": "python",
   "pygments_lexer": "ipython3",
   "version": "3.7.9"
  }
 },
 "nbformat": 4,
 "nbformat_minor": 4
}
