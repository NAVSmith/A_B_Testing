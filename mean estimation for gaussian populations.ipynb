{
 "cells": [
  {
   "cell_type": "code",
   "execution_count": 1,
   "metadata": {},
   "outputs": [],
   "source": [
    "import numpy as np\n",
    "import pandas as pd\n",
    "import matplotlib.pyplot as plt\n",
    "import seaborn as sns"
   ]
  },
  {
   "cell_type": "code",
   "execution_count": 2,
   "metadata": {},
   "outputs": [],
   "source": [
    "df = pd.read_csv('data/data_viz_2018.csv')\n",
    "df = df[:-1]"
   ]
  },
  {
   "cell_type": "code",
   "execution_count": 4,
   "metadata": {},
   "outputs": [
    {
     "data": {
      "text/html": [
       "<div>\n",
       "<style scoped>\n",
       "    .dataframe tbody tr th:only-of-type {\n",
       "        vertical-align: middle;\n",
       "    }\n",
       "\n",
       "    .dataframe tbody tr th {\n",
       "        vertical-align: top;\n",
       "    }\n",
       "\n",
       "    .dataframe thead th {\n",
       "        text-align: right;\n",
       "    }\n",
       "</style>\n",
       "<table border=\"1\" class=\"dataframe\">\n",
       "  <thead>\n",
       "    <tr style=\"text-align: right;\">\n",
       "      <th></th>\n",
       "      <th>visit_date</th>\n",
       "      <th>condition</th>\n",
       "      <th>time_spent_homepage_sec</th>\n",
       "      <th>clicked_article</th>\n",
       "      <th>clicked_like</th>\n",
       "      <th>clicked_share</th>\n",
       "    </tr>\n",
       "  </thead>\n",
       "  <tbody>\n",
       "    <tr>\n",
       "      <th>0</th>\n",
       "      <td>2018-04-01</td>\n",
       "      <td>tips</td>\n",
       "      <td>49.011609</td>\n",
       "      <td>1.0</td>\n",
       "      <td>0.0</td>\n",
       "      <td>1.0</td>\n",
       "    </tr>\n",
       "    <tr>\n",
       "      <th>1</th>\n",
       "      <td>2018-04-01</td>\n",
       "      <td>tips</td>\n",
       "      <td>48.864515</td>\n",
       "      <td>1.0</td>\n",
       "      <td>0.0</td>\n",
       "      <td>0.0</td>\n",
       "    </tr>\n",
       "    <tr>\n",
       "      <th>2</th>\n",
       "      <td>2018-04-01</td>\n",
       "      <td>tips</td>\n",
       "      <td>49.074667</td>\n",
       "      <td>1.0</td>\n",
       "      <td>0.0</td>\n",
       "      <td>0.0</td>\n",
       "    </tr>\n",
       "    <tr>\n",
       "      <th>3</th>\n",
       "      <td>2018-04-01</td>\n",
       "      <td>tips</td>\n",
       "      <td>49.260109</td>\n",
       "      <td>0.0</td>\n",
       "      <td>1.0</td>\n",
       "      <td>0.0</td>\n",
       "    </tr>\n",
       "    <tr>\n",
       "      <th>4</th>\n",
       "      <td>2018-04-01</td>\n",
       "      <td>tips</td>\n",
       "      <td>50.371898</td>\n",
       "      <td>0.0</td>\n",
       "      <td>1.0</td>\n",
       "      <td>0.0</td>\n",
       "    </tr>\n",
       "    <tr>\n",
       "      <th>...</th>\n",
       "      <td>...</td>\n",
       "      <td>...</td>\n",
       "      <td>...</td>\n",
       "      <td>...</td>\n",
       "      <td>...</td>\n",
       "      <td>...</td>\n",
       "    </tr>\n",
       "    <tr>\n",
       "      <th>29995</th>\n",
       "      <td>2018-04-30</td>\n",
       "      <td>tools</td>\n",
       "      <td>49.114504</td>\n",
       "      <td>1.0</td>\n",
       "      <td>0.0</td>\n",
       "      <td>0.0</td>\n",
       "    </tr>\n",
       "    <tr>\n",
       "      <th>29996</th>\n",
       "      <td>2018-04-30</td>\n",
       "      <td>tools</td>\n",
       "      <td>49.742075</td>\n",
       "      <td>1.0</td>\n",
       "      <td>0.0</td>\n",
       "      <td>0.0</td>\n",
       "    </tr>\n",
       "    <tr>\n",
       "      <th>29997</th>\n",
       "      <td>2018-04-30</td>\n",
       "      <td>tools</td>\n",
       "      <td>50.649890</td>\n",
       "      <td>1.0</td>\n",
       "      <td>1.0</td>\n",
       "      <td>0.0</td>\n",
       "    </tr>\n",
       "    <tr>\n",
       "      <th>29998</th>\n",
       "      <td>2018-04-30</td>\n",
       "      <td>tools</td>\n",
       "      <td>49.550665</td>\n",
       "      <td>1.0</td>\n",
       "      <td>0.0</td>\n",
       "      <td>0.0</td>\n",
       "    </tr>\n",
       "    <tr>\n",
       "      <th>29999</th>\n",
       "      <td>2018-04-30</td>\n",
       "      <td>tools</td>\n",
       "      <td>50.352502</td>\n",
       "      <td>1.0</td>\n",
       "      <td>0.0</td>\n",
       "      <td>0.0</td>\n",
       "    </tr>\n",
       "  </tbody>\n",
       "</table>\n",
       "<p>30000 rows × 6 columns</p>\n",
       "</div>"
      ],
      "text/plain": [
       "       visit_date condition  time_spent_homepage_sec  clicked_article  \\\n",
       "0      2018-04-01      tips                49.011609              1.0   \n",
       "1      2018-04-01      tips                48.864515              1.0   \n",
       "2      2018-04-01      tips                49.074667              1.0   \n",
       "3      2018-04-01      tips                49.260109              0.0   \n",
       "4      2018-04-01      tips                50.371898              0.0   \n",
       "...           ...       ...                      ...              ...   \n",
       "29995  2018-04-30     tools                49.114504              1.0   \n",
       "29996  2018-04-30     tools                49.742075              1.0   \n",
       "29997  2018-04-30     tools                50.649890              1.0   \n",
       "29998  2018-04-30     tools                49.550665              1.0   \n",
       "29999  2018-04-30     tools                50.352502              1.0   \n",
       "\n",
       "       clicked_like  clicked_share  \n",
       "0               0.0            1.0  \n",
       "1               0.0            0.0  \n",
       "2               0.0            0.0  \n",
       "3               1.0            0.0  \n",
       "4               1.0            0.0  \n",
       "...             ...            ...  \n",
       "29995           0.0            0.0  \n",
       "29996           0.0            0.0  \n",
       "29997           1.0            0.0  \n",
       "29998           0.0            0.0  \n",
       "29999           0.0            0.0  \n",
       "\n",
       "[30000 rows x 6 columns]"
      ]
     },
     "execution_count": 4,
     "metadata": {},
     "output_type": "execute_result"
    }
   ],
   "source": [
    "df\n"
   ]
  },
  {
   "cell_type": "code",
   "execution_count": 7,
   "metadata": {},
   "outputs": [],
   "source": [
    "df['day']= df.visit_date.map(lambda x: int(str(x)[-2:]))"
   ]
  },
  {
   "cell_type": "code",
   "execution_count": 8,
   "metadata": {},
   "outputs": [
    {
     "data": {
      "text/html": [
       "<div>\n",
       "<style scoped>\n",
       "    .dataframe tbody tr th:only-of-type {\n",
       "        vertical-align: middle;\n",
       "    }\n",
       "\n",
       "    .dataframe tbody tr th {\n",
       "        vertical-align: top;\n",
       "    }\n",
       "\n",
       "    .dataframe thead th {\n",
       "        text-align: right;\n",
       "    }\n",
       "</style>\n",
       "<table border=\"1\" class=\"dataframe\">\n",
       "  <thead>\n",
       "    <tr style=\"text-align: right;\">\n",
       "      <th></th>\n",
       "      <th>visit_date</th>\n",
       "      <th>condition</th>\n",
       "      <th>time_spent_homepage_sec</th>\n",
       "      <th>clicked_article</th>\n",
       "      <th>clicked_like</th>\n",
       "      <th>clicked_share</th>\n",
       "      <th>day</th>\n",
       "    </tr>\n",
       "  </thead>\n",
       "  <tbody>\n",
       "    <tr>\n",
       "      <th>0</th>\n",
       "      <td>2018-04-01</td>\n",
       "      <td>tips</td>\n",
       "      <td>49.011609</td>\n",
       "      <td>1.0</td>\n",
       "      <td>0.0</td>\n",
       "      <td>1.0</td>\n",
       "      <td>1</td>\n",
       "    </tr>\n",
       "    <tr>\n",
       "      <th>1</th>\n",
       "      <td>2018-04-01</td>\n",
       "      <td>tips</td>\n",
       "      <td>48.864515</td>\n",
       "      <td>1.0</td>\n",
       "      <td>0.0</td>\n",
       "      <td>0.0</td>\n",
       "      <td>1</td>\n",
       "    </tr>\n",
       "    <tr>\n",
       "      <th>2</th>\n",
       "      <td>2018-04-01</td>\n",
       "      <td>tips</td>\n",
       "      <td>49.074667</td>\n",
       "      <td>1.0</td>\n",
       "      <td>0.0</td>\n",
       "      <td>0.0</td>\n",
       "      <td>1</td>\n",
       "    </tr>\n",
       "    <tr>\n",
       "      <th>3</th>\n",
       "      <td>2018-04-01</td>\n",
       "      <td>tips</td>\n",
       "      <td>49.260109</td>\n",
       "      <td>0.0</td>\n",
       "      <td>1.0</td>\n",
       "      <td>0.0</td>\n",
       "      <td>1</td>\n",
       "    </tr>\n",
       "    <tr>\n",
       "      <th>4</th>\n",
       "      <td>2018-04-01</td>\n",
       "      <td>tips</td>\n",
       "      <td>50.371898</td>\n",
       "      <td>0.0</td>\n",
       "      <td>1.0</td>\n",
       "      <td>0.0</td>\n",
       "      <td>1</td>\n",
       "    </tr>\n",
       "    <tr>\n",
       "      <th>...</th>\n",
       "      <td>...</td>\n",
       "      <td>...</td>\n",
       "      <td>...</td>\n",
       "      <td>...</td>\n",
       "      <td>...</td>\n",
       "      <td>...</td>\n",
       "      <td>...</td>\n",
       "    </tr>\n",
       "    <tr>\n",
       "      <th>29995</th>\n",
       "      <td>2018-04-30</td>\n",
       "      <td>tools</td>\n",
       "      <td>49.114504</td>\n",
       "      <td>1.0</td>\n",
       "      <td>0.0</td>\n",
       "      <td>0.0</td>\n",
       "      <td>30</td>\n",
       "    </tr>\n",
       "    <tr>\n",
       "      <th>29996</th>\n",
       "      <td>2018-04-30</td>\n",
       "      <td>tools</td>\n",
       "      <td>49.742075</td>\n",
       "      <td>1.0</td>\n",
       "      <td>0.0</td>\n",
       "      <td>0.0</td>\n",
       "      <td>30</td>\n",
       "    </tr>\n",
       "    <tr>\n",
       "      <th>29997</th>\n",
       "      <td>2018-04-30</td>\n",
       "      <td>tools</td>\n",
       "      <td>50.649890</td>\n",
       "      <td>1.0</td>\n",
       "      <td>1.0</td>\n",
       "      <td>0.0</td>\n",
       "      <td>30</td>\n",
       "    </tr>\n",
       "    <tr>\n",
       "      <th>29998</th>\n",
       "      <td>2018-04-30</td>\n",
       "      <td>tools</td>\n",
       "      <td>49.550665</td>\n",
       "      <td>1.0</td>\n",
       "      <td>0.0</td>\n",
       "      <td>0.0</td>\n",
       "      <td>30</td>\n",
       "    </tr>\n",
       "    <tr>\n",
       "      <th>29999</th>\n",
       "      <td>2018-04-30</td>\n",
       "      <td>tools</td>\n",
       "      <td>50.352502</td>\n",
       "      <td>1.0</td>\n",
       "      <td>0.0</td>\n",
       "      <td>0.0</td>\n",
       "      <td>30</td>\n",
       "    </tr>\n",
       "  </tbody>\n",
       "</table>\n",
       "<p>30000 rows × 7 columns</p>\n",
       "</div>"
      ],
      "text/plain": [
       "       visit_date condition  time_spent_homepage_sec  clicked_article  \\\n",
       "0      2018-04-01      tips                49.011609              1.0   \n",
       "1      2018-04-01      tips                48.864515              1.0   \n",
       "2      2018-04-01      tips                49.074667              1.0   \n",
       "3      2018-04-01      tips                49.260109              0.0   \n",
       "4      2018-04-01      tips                50.371898              0.0   \n",
       "...           ...       ...                      ...              ...   \n",
       "29995  2018-04-30     tools                49.114504              1.0   \n",
       "29996  2018-04-30     tools                49.742075              1.0   \n",
       "29997  2018-04-30     tools                50.649890              1.0   \n",
       "29998  2018-04-30     tools                49.550665              1.0   \n",
       "29999  2018-04-30     tools                50.352502              1.0   \n",
       "\n",
       "       clicked_like  clicked_share  day  \n",
       "0               0.0            1.0    1  \n",
       "1               0.0            0.0    1  \n",
       "2               0.0            0.0    1  \n",
       "3               1.0            0.0    1  \n",
       "4               1.0            0.0    1  \n",
       "...             ...            ...  ...  \n",
       "29995           0.0            0.0   30  \n",
       "29996           0.0            0.0   30  \n",
       "29997           1.0            0.0   30  \n",
       "29998           0.0            0.0   30  \n",
       "29999           0.0            0.0   30  \n",
       "\n",
       "[30000 rows x 7 columns]"
      ]
     },
     "execution_count": 8,
     "metadata": {},
     "output_type": "execute_result"
    }
   ],
   "source": [
    "df"
   ]
  },
  {
   "cell_type": "code",
   "execution_count": 9,
   "metadata": {},
   "outputs": [],
   "source": [
    "df['deca'] = (df.day-1)//10"
   ]
  },
  {
   "cell_type": "code",
   "execution_count": 10,
   "metadata": {},
   "outputs": [
    {
     "data": {
      "text/html": [
       "<div>\n",
       "<style scoped>\n",
       "    .dataframe tbody tr th:only-of-type {\n",
       "        vertical-align: middle;\n",
       "    }\n",
       "\n",
       "    .dataframe tbody tr th {\n",
       "        vertical-align: top;\n",
       "    }\n",
       "\n",
       "    .dataframe thead th {\n",
       "        text-align: right;\n",
       "    }\n",
       "</style>\n",
       "<table border=\"1\" class=\"dataframe\">\n",
       "  <thead>\n",
       "    <tr style=\"text-align: right;\">\n",
       "      <th></th>\n",
       "      <th>visit_date</th>\n",
       "      <th>condition</th>\n",
       "      <th>time_spent_homepage_sec</th>\n",
       "      <th>clicked_article</th>\n",
       "      <th>clicked_like</th>\n",
       "      <th>clicked_share</th>\n",
       "      <th>day</th>\n",
       "      <th>deca</th>\n",
       "    </tr>\n",
       "  </thead>\n",
       "  <tbody>\n",
       "    <tr>\n",
       "      <th>0</th>\n",
       "      <td>2018-04-01</td>\n",
       "      <td>tips</td>\n",
       "      <td>49.011609</td>\n",
       "      <td>1.0</td>\n",
       "      <td>0.0</td>\n",
       "      <td>1.0</td>\n",
       "      <td>1</td>\n",
       "      <td>0</td>\n",
       "    </tr>\n",
       "    <tr>\n",
       "      <th>1</th>\n",
       "      <td>2018-04-01</td>\n",
       "      <td>tips</td>\n",
       "      <td>48.864515</td>\n",
       "      <td>1.0</td>\n",
       "      <td>0.0</td>\n",
       "      <td>0.0</td>\n",
       "      <td>1</td>\n",
       "      <td>0</td>\n",
       "    </tr>\n",
       "    <tr>\n",
       "      <th>2</th>\n",
       "      <td>2018-04-01</td>\n",
       "      <td>tips</td>\n",
       "      <td>49.074667</td>\n",
       "      <td>1.0</td>\n",
       "      <td>0.0</td>\n",
       "      <td>0.0</td>\n",
       "      <td>1</td>\n",
       "      <td>0</td>\n",
       "    </tr>\n",
       "    <tr>\n",
       "      <th>3</th>\n",
       "      <td>2018-04-01</td>\n",
       "      <td>tips</td>\n",
       "      <td>49.260109</td>\n",
       "      <td>0.0</td>\n",
       "      <td>1.0</td>\n",
       "      <td>0.0</td>\n",
       "      <td>1</td>\n",
       "      <td>0</td>\n",
       "    </tr>\n",
       "    <tr>\n",
       "      <th>4</th>\n",
       "      <td>2018-04-01</td>\n",
       "      <td>tips</td>\n",
       "      <td>50.371898</td>\n",
       "      <td>0.0</td>\n",
       "      <td>1.0</td>\n",
       "      <td>0.0</td>\n",
       "      <td>1</td>\n",
       "      <td>0</td>\n",
       "    </tr>\n",
       "    <tr>\n",
       "      <th>...</th>\n",
       "      <td>...</td>\n",
       "      <td>...</td>\n",
       "      <td>...</td>\n",
       "      <td>...</td>\n",
       "      <td>...</td>\n",
       "      <td>...</td>\n",
       "      <td>...</td>\n",
       "      <td>...</td>\n",
       "    </tr>\n",
       "    <tr>\n",
       "      <th>29995</th>\n",
       "      <td>2018-04-30</td>\n",
       "      <td>tools</td>\n",
       "      <td>49.114504</td>\n",
       "      <td>1.0</td>\n",
       "      <td>0.0</td>\n",
       "      <td>0.0</td>\n",
       "      <td>30</td>\n",
       "      <td>2</td>\n",
       "    </tr>\n",
       "    <tr>\n",
       "      <th>29996</th>\n",
       "      <td>2018-04-30</td>\n",
       "      <td>tools</td>\n",
       "      <td>49.742075</td>\n",
       "      <td>1.0</td>\n",
       "      <td>0.0</td>\n",
       "      <td>0.0</td>\n",
       "      <td>30</td>\n",
       "      <td>2</td>\n",
       "    </tr>\n",
       "    <tr>\n",
       "      <th>29997</th>\n",
       "      <td>2018-04-30</td>\n",
       "      <td>tools</td>\n",
       "      <td>50.649890</td>\n",
       "      <td>1.0</td>\n",
       "      <td>1.0</td>\n",
       "      <td>0.0</td>\n",
       "      <td>30</td>\n",
       "      <td>2</td>\n",
       "    </tr>\n",
       "    <tr>\n",
       "      <th>29998</th>\n",
       "      <td>2018-04-30</td>\n",
       "      <td>tools</td>\n",
       "      <td>49.550665</td>\n",
       "      <td>1.0</td>\n",
       "      <td>0.0</td>\n",
       "      <td>0.0</td>\n",
       "      <td>30</td>\n",
       "      <td>2</td>\n",
       "    </tr>\n",
       "    <tr>\n",
       "      <th>29999</th>\n",
       "      <td>2018-04-30</td>\n",
       "      <td>tools</td>\n",
       "      <td>50.352502</td>\n",
       "      <td>1.0</td>\n",
       "      <td>0.0</td>\n",
       "      <td>0.0</td>\n",
       "      <td>30</td>\n",
       "      <td>2</td>\n",
       "    </tr>\n",
       "  </tbody>\n",
       "</table>\n",
       "<p>30000 rows × 8 columns</p>\n",
       "</div>"
      ],
      "text/plain": [
       "       visit_date condition  time_spent_homepage_sec  clicked_article  \\\n",
       "0      2018-04-01      tips                49.011609              1.0   \n",
       "1      2018-04-01      tips                48.864515              1.0   \n",
       "2      2018-04-01      tips                49.074667              1.0   \n",
       "3      2018-04-01      tips                49.260109              0.0   \n",
       "4      2018-04-01      tips                50.371898              0.0   \n",
       "...           ...       ...                      ...              ...   \n",
       "29995  2018-04-30     tools                49.114504              1.0   \n",
       "29996  2018-04-30     tools                49.742075              1.0   \n",
       "29997  2018-04-30     tools                50.649890              1.0   \n",
       "29998  2018-04-30     tools                49.550665              1.0   \n",
       "29999  2018-04-30     tools                50.352502              1.0   \n",
       "\n",
       "       clicked_like  clicked_share  day  deca  \n",
       "0               0.0            1.0    1     0  \n",
       "1               0.0            0.0    1     0  \n",
       "2               0.0            0.0    1     0  \n",
       "3               1.0            0.0    1     0  \n",
       "4               1.0            0.0    1     0  \n",
       "...             ...            ...  ...   ...  \n",
       "29995           0.0            0.0   30     2  \n",
       "29996           0.0            0.0   30     2  \n",
       "29997           1.0            0.0   30     2  \n",
       "29998           0.0            0.0   30     2  \n",
       "29999           0.0            0.0   30     2  \n",
       "\n",
       "[30000 rows x 8 columns]"
      ]
     },
     "execution_count": 10,
     "metadata": {},
     "output_type": "execute_result"
    }
   ],
   "source": [
    "df"
   ]
  },
  {
   "cell_type": "code",
   "execution_count": 22,
   "metadata": {},
   "outputs": [
    {
     "data": {
      "text/plain": [
       "<seaborn.axisgrid.FacetGrid at 0x7fee57f7e890>"
      ]
     },
     "execution_count": 22,
     "metadata": {},
     "output_type": "execute_result"
    },
    {
     "data": {
      "image/png": "[encoded data removed]",
      "text/plain": [
       "<Figure size 402.375x360 with 1 Axes>"
      ]
     },
     "metadata": {
      "needs_background": "light"
     },
     "output_type": "display_data"
    }
   ],
   "source": [
    "sns.displot(data=df,x='time_spent_homepage_sec',hue='deca', alpha=0.3, kind='kde')"
   ]
  },
  {
   "cell_type": "code",
   "execution_count": 38,
   "metadata": {},
   "outputs": [],
   "source": [
    "df1 = df.copy()\n",
    "df1.loc[df.deca==1,'time_spent_homepage_sec'] += 10\n",
    "\n",
    "df2 = df.copy()\n",
    "df2.loc[df.deca==1,'time_spent_homepage_sec'] += 0.1"
   ]
  },
  {
   "cell_type": "code",
   "execution_count": 21,
   "metadata": {},
   "outputs": [
    {
     "data": {
      "text/plain": [
       "<seaborn.axisgrid.FacetGrid at 0x7fee57f7ebd0>"
      ]
     },
     "execution_count": 21,
     "metadata": {},
     "output_type": "execute_result"
    },
    {
     "data": {
      "image/png": "[encoded data removed]",
      "text/plain": [
       "<Figure size 402.375x360 with 1 Axes>"
      ]
     },
     "metadata": {
      "needs_background": "light"
     },
     "output_type": "display_data"
    }
   ],
   "source": [
    "sns.displot(data=df1,x='time_spent_homepage_sec',hue='deca', alpha=0.3, kind='kde')"
   ]
  },
  {
   "cell_type": "code",
   "execution_count": 23,
   "metadata": {},
   "outputs": [],
   "source": [
    "from scipy.stats import f_oneway"
   ]
  },
  {
   "cell_type": "code",
   "execution_count": 39,
   "metadata": {},
   "outputs": [],
   "source": [
    "groups_different = [df2.loc[df2.deca==i,'time_spent_homepage_sec'].values for i in range(3) ]\n",
    "groups_same = [df.loc[df.deca==i,'time_spent_homepage_sec'].values for i in range(3) ]"
   ]
  },
  {
   "cell_type": "code",
   "execution_count": 36,
   "metadata": {},
   "outputs": [
    {
     "data": {
      "text/plain": [
       "([10028, 10025, 9947], [10028, 10025, 9947])"
      ]
     },
     "execution_count": 36,
     "metadata": {},
     "output_type": "execute_result"
    }
   ],
   "source": [
    "list(map(len,groups_different)),list(map(len,groups_same))"
   ]
  },
  {
   "cell_type": "code",
   "execution_count": 40,
   "metadata": {},
   "outputs": [
    {
     "data": {
      "text/plain": [
       "F_onewayResult(statistic=23.24805841511471, pvalue=8.152923327681543e-11)"
      ]
     },
     "execution_count": 40,
     "metadata": {},
     "output_type": "execute_result"
    }
   ],
   "source": [
    "f_oneway(*groups_different)"
   ]
  },
  {
   "cell_type": "code",
   "execution_count": 33,
   "metadata": {},
   "outputs": [
    {
     "data": {
      "text/plain": [
       "F_onewayResult(statistic=0.9533181358991571, pvalue=0.3854715687407205)"
      ]
     },
     "execution_count": 33,
     "metadata": {},
     "output_type": "execute_result"
    }
   ],
   "source": [
    "f_oneway(*groups_same)"
   ]
  },
  {
   "cell_type": "code",
   "execution_count": null,
   "metadata": {},
   "outputs": [],
   "source": [
    "+- 15cm / sqrt(n)= 15/100 = 0.15cm"
   ]
  },
  {
   "cell_type": "code",
   "execution_count": 49,
   "metadata": {},
   "outputs": [
    {
     "name": "stdout",
     "output_type": "stream",
     "text": [
      "mean -0.0858055760060827\n",
      "mean 0.014980314949052335\n",
      "mean 0.0045219627381022\n",
      "mean -0.020500752028336074\n",
      "mean 0.04416118385153343\n",
      "mean 0.09360767183378726\n",
      "mean 0.0043812467850102305\n",
      "mean 0.010626005165761178\n",
      "mean -0.026826856342609468\n",
      "mean 0.11204537036795413\n",
      "mean -0.04975087682890501\n",
      "mean 0.014574866698640776\n",
      "mean 0.009767586085902875\n",
      "mean -0.007717530399204911\n",
      "mean -0.06409113518170302\n",
      "mean 0.08769963446729069\n",
      "mean -0.033956297671915645\n",
      "mean 0.004078159064015144\n",
      "mean -0.07379556452930329\n",
      "mean -0.08120606549400598\n",
      "mean 0.024976174796475164\n",
      "mean -0.07306174956139329\n",
      "mean -0.09897492788606474\n",
      "mean -0.03208487199681224\n",
      "mean 0.08100375976587389\n",
      "mean -0.006224370270682499\n",
      "mean -0.0885133822164593\n",
      "mean -0.02667110645187991\n",
      "mean -0.028750778134481556\n",
      "mean -0.024620412576206854\n",
      "mean -0.06251999065600437\n",
      "mean 0.10421270707368356\n",
      "mean 0.039896510213449955\n",
      "mean -0.04546548699312786\n",
      "mean -0.020936603985735318\n",
      "mean 0.018154096297508263\n",
      "mean -0.05520210777671625\n",
      "mean 0.003561012620389505\n",
      "mean -0.0209982299574745\n",
      "mean -0.11640531880106622\n",
      "mean -0.04822815928271415\n",
      "mean -0.013103109627129319\n",
      "mean -0.006132503666881308\n",
      "mean -0.054693289895767015\n",
      "mean 0.030683728343359435\n",
      "mean 0.032176166236023616\n",
      "mean -0.002023429414449449\n",
      "mean -0.07331298829789847\n",
      "mean -0.04865430071889144\n",
      "mean 0.0752543063333448\n"
     ]
    }
   ],
   "source": [
    "y=[]\n",
    "for i in range(50):\n",
    "    x =np.random.randn(500)\n",
    "    #print('std',np.std(x))\n",
    "    print('mean',np.mean(x))\n",
    "    y.append(x.mean())"
   ]
  },
  {
   "cell_type": "code",
   "execution_count": 47,
   "metadata": {},
   "outputs": [
    {
     "data": {
      "text/plain": [
       "0.044721359549995794"
      ]
     },
     "execution_count": 47,
     "metadata": {},
     "output_type": "execute_result"
    }
   ],
   "source": [
    "1/np.sqrt(500)"
   ]
  },
  {
   "cell_type": "code",
   "execution_count": 51,
   "metadata": {},
   "outputs": [
    {
     "name": "stderr",
     "output_type": "stream",
     "text": [
      "/home/siegman/miniconda3/lib/python3.7/site-packages/seaborn/distributions.py:2551: FutureWarning: `distplot` is a deprecated function and will be removed in a future version. Please adapt your code to use either `displot` (a figure-level function with similar flexibility) or `histplot` (an axes-level function for histograms).\n",
      "  warnings.warn(msg, FutureWarning)\n",
      "/home/siegman/miniconda3/lib/python3.7/site-packages/seaborn/distributions.py:2551: FutureWarning: `distplot` is a deprecated function and will be removed in a future version. Please adapt your code to use either `displot` (a figure-level function with similar flexibility) or `histplot` (an axes-level function for histograms).\n",
      "  warnings.warn(msg, FutureWarning)\n"
     ]
    },
    {
     "data": {
      "text/plain": [
       "<AxesSubplot:ylabel='Density'>"
      ]
     },
     "execution_count": 51,
     "metadata": {},
     "output_type": "execute_result"
    },
    {
     "data": {
      "image/png": "[encoded data removed]",
      "text/plain": [
       "<Figure size 432x288 with 1 Axes>"
      ]
     },
     "metadata": {
      "needs_background": "light"
     },
     "output_type": "display_data"
    }
   ],
   "source": [
    "sns.distplot(y)\n",
    "sns.distplot(x)\n"
   ]
  },
  {
   "cell_type": "code",
   "execution_count": 44,
   "metadata": {},
   "outputs": [
    {
     "data": {
      "text/plain": [
       "1.0109448132361603"
      ]
     },
     "execution_count": 44,
     "metadata": {},
     "output_type": "execute_result"
    }
   ],
   "source": [
    "np.distpl"
   ]
  },
  {
   "cell_type": "code",
   "execution_count": 45,
   "metadata": {},
   "outputs": [
    {
     "data": {
      "text/plain": [
       "-0.05230598447184349"
      ]
     },
     "execution_count": 45,
     "metadata": {},
     "output_type": "execute_result"
    }
   ],
   "source": [
    "np.mean(x)"
   ]
  },
  {
   "cell_type": "markdown",
   "metadata": {},
   "source": [
    "## $$\\bar{x}= \\frac{1}{n}\\sum_i{x_i}$$"
   ]
  },
  {
   "cell_type": "markdown",
   "metadata": {},
   "source": [
    "## $$x_i \\tilde N(\\mu,\\sigma^2)$$"
   ]
  },
  {
   "cell_type": "markdown",
   "metadata": {},
   "source": [
    "## $$var(x_i)=?$$"
   ]
  },
  {
   "cell_type": "markdown",
   "metadata": {},
   "source": [
    "## $$var(\\bar{x})= var(\\frac{1}{n}\\sum_i{x_i}) = \\frac{1}{n^2}\\sum{var(x_i)}= \\frac{1}{n^2}\\sum{\\sigma^2}=\\frac{n}{n^2}\\sigma^2$$"
   ]
  },
  {
   "cell_type": "markdown",
   "metadata": {},
   "source": [
    "$$std(\\bar{x})=\\frac{\\sigma}{\\sqrt{n}}$$"
   ]
  },
  {
   "cell_type": "code",
   "execution_count": null,
   "metadata": {},
   "outputs": [],
   "source": []
  }
 ],
 "metadata": {
  "kernelspec": {
   "display_name": "Python 3.7.4 64-bit ('base': conda)",
   "language": "python",
   "name": "python37464bitbaseconda865b03b3ea5d4f4bb8519af201560b69"
  },
  "language_info": {
   "codemirror_mode": {
    "name": "ipython",
    "version": 3
   },
   "file_extension": ".py",
   "mimetype": "text/x-python",
   "name": "python",
   "nbconvert_exporter": "python",
   "pygments_lexer": "ipython3",
   "version": "3.7.9"
  }
 },
 "nbformat": 4,
 "nbformat_minor": 4
}
